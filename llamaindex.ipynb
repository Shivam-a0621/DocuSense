{
 "cells": [
  {
   "cell_type": "code",
   "execution_count": 1,
   "metadata": {},
   "outputs": [
    {
     "name": "stdout",
     "output_type": "stream",
     "text": [
      "Requirement already satisfied: llama-index in f:\\projects\\rag_hindex\\.venv\\lib\\site-packages (0.10.56)\n",
      "Requirement already satisfied: llama-index-agent-openai<0.3.0,>=0.1.4 in f:\\projects\\rag_hindex\\.venv\\lib\\site-packages (from llama-index) (0.2.9)\n",
      "Requirement already satisfied: llama-index-cli<0.2.0,>=0.1.2 in f:\\projects\\rag_hindex\\.venv\\lib\\site-packages (from llama-index) (0.1.12)\n",
      "Requirement already satisfied: llama-index-core==0.10.56 in f:\\projects\\rag_hindex\\.venv\\lib\\site-packages (from llama-index) (0.10.56)\n",
      "Requirement already satisfied: llama-index-embeddings-openai<0.2.0,>=0.1.5 in f:\\projects\\rag_hindex\\.venv\\lib\\site-packages (from llama-index) (0.1.11)\n",
      "Requirement already satisfied: llama-index-indices-managed-llama-cloud>=0.2.0 in f:\\projects\\rag_hindex\\.venv\\lib\\site-packages (from llama-index) (0.2.5)\n",
      "Requirement already satisfied: llama-index-legacy<0.10.0,>=0.9.48 in f:\\projects\\rag_hindex\\.venv\\lib\\site-packages (from llama-index) (0.9.48)\n",
      "Requirement already satisfied: llama-index-llms-openai<0.2.0,>=0.1.13 in f:\\projects\\rag_hindex\\.venv\\lib\\site-packages (from llama-index) (0.1.26)\n",
      "Requirement already satisfied: llama-index-multi-modal-llms-openai<0.2.0,>=0.1.3 in f:\\projects\\rag_hindex\\.venv\\lib\\site-packages (from llama-index) (0.1.8)\n",
      "Requirement already satisfied: llama-index-program-openai<0.2.0,>=0.1.3 in f:\\projects\\rag_hindex\\.venv\\lib\\site-packages (from llama-index) (0.1.6)\n",
      "Requirement already satisfied: llama-index-question-gen-openai<0.2.0,>=0.1.2 in f:\\projects\\rag_hindex\\.venv\\lib\\site-packages (from llama-index) (0.1.3)\n",
      "Requirement already satisfied: llama-index-readers-file<0.2.0,>=0.1.4 in f:\\projects\\rag_hindex\\.venv\\lib\\site-packages (from llama-index) (0.1.30)\n",
      "Requirement already satisfied: llama-index-readers-llama-parse>=0.1.2 in f:\\projects\\rag_hindex\\.venv\\lib\\site-packages (from llama-index) (0.1.6)\n",
      "Requirement already satisfied: PyYAML>=6.0.1 in f:\\projects\\rag_hindex\\.venv\\lib\\site-packages (from llama-index-core==0.10.56->llama-index) (6.0.1)\n",
      "Requirement already satisfied: SQLAlchemy>=1.4.49 in f:\\projects\\rag_hindex\\.venv\\lib\\site-packages (from SQLAlchemy[asyncio]>=1.4.49->llama-index-core==0.10.56->llama-index) (2.0.31)\n",
      "Requirement already satisfied: aiohttp<4.0.0,>=3.8.6 in f:\\projects\\rag_hindex\\.venv\\lib\\site-packages (from llama-index-core==0.10.56->llama-index) (3.9.5)\n",
      "Requirement already satisfied: dataclasses-json in f:\\projects\\rag_hindex\\.venv\\lib\\site-packages (from llama-index-core==0.10.56->llama-index) (0.6.7)\n",
      "Requirement already satisfied: deprecated>=1.2.9.3 in f:\\projects\\rag_hindex\\.venv\\lib\\site-packages (from llama-index-core==0.10.56->llama-index) (1.2.14)\n",
      "Requirement already satisfied: dirtyjson<2.0.0,>=1.0.8 in f:\\projects\\rag_hindex\\.venv\\lib\\site-packages (from llama-index-core==0.10.56->llama-index) (1.0.8)\n",
      "Requirement already satisfied: fsspec>=2023.5.0 in f:\\projects\\rag_hindex\\.venv\\lib\\site-packages (from llama-index-core==0.10.56->llama-index) (2024.6.1)\n",
      "Requirement already satisfied: httpx in f:\\projects\\rag_hindex\\.venv\\lib\\site-packages (from llama-index-core==0.10.56->llama-index) (0.27.0)\n",
      "Requirement already satisfied: nest-asyncio<2.0.0,>=1.5.8 in f:\\projects\\rag_hindex\\.venv\\lib\\site-packages (from llama-index-core==0.10.56->llama-index) (1.6.0)\n",
      "Requirement already satisfied: networkx>=3.0 in f:\\projects\\rag_hindex\\.venv\\lib\\site-packages (from llama-index-core==0.10.56->llama-index) (3.3)\n",
      "Requirement already satisfied: nltk<4.0.0,>=3.8.1 in f:\\projects\\rag_hindex\\.venv\\lib\\site-packages (from llama-index-core==0.10.56->llama-index) (3.8.1)\n",
      "Requirement already satisfied: numpy<2.0.0 in f:\\projects\\rag_hindex\\.venv\\lib\\site-packages (from llama-index-core==0.10.56->llama-index) (1.26.4)\n",
      "Requirement already satisfied: openai>=1.1.0 in f:\\projects\\rag_hindex\\.venv\\lib\\site-packages (from llama-index-core==0.10.56->llama-index) (1.37.0)\n",
      "Requirement already satisfied: pandas in f:\\projects\\rag_hindex\\.venv\\lib\\site-packages (from llama-index-core==0.10.56->llama-index) (2.2.2)\n",
      "Requirement already satisfied: pillow>=9.0.0 in f:\\projects\\rag_hindex\\.venv\\lib\\site-packages (from llama-index-core==0.10.56->llama-index) (10.4.0)\n",
      "Requirement already satisfied: requests>=2.31.0 in f:\\projects\\rag_hindex\\.venv\\lib\\site-packages (from llama-index-core==0.10.56->llama-index) (2.32.3)\n",
      "Requirement already satisfied: tenacity!=8.4.0,<9.0.0,>=8.2.0 in f:\\projects\\rag_hindex\\.venv\\lib\\site-packages (from llama-index-core==0.10.56->llama-index) (8.5.0)\n",
      "Requirement already satisfied: tiktoken>=0.3.3 in f:\\projects\\rag_hindex\\.venv\\lib\\site-packages (from llama-index-core==0.10.56->llama-index) (0.7.0)\n",
      "Requirement already satisfied: tqdm<5.0.0,>=4.66.1 in f:\\projects\\rag_hindex\\.venv\\lib\\site-packages (from llama-index-core==0.10.56->llama-index) (4.66.4)\n",
      "Requirement already satisfied: typing-extensions>=4.5.0 in f:\\projects\\rag_hindex\\.venv\\lib\\site-packages (from llama-index-core==0.10.56->llama-index) (4.12.2)\n",
      "Requirement already satisfied: typing-inspect>=0.8.0 in f:\\projects\\rag_hindex\\.venv\\lib\\site-packages (from llama-index-core==0.10.56->llama-index) (0.9.0)\n",
      "Requirement already satisfied: wrapt in f:\\projects\\rag_hindex\\.venv\\lib\\site-packages (from llama-index-core==0.10.56->llama-index) (1.16.0)\n",
      "Requirement already satisfied: llama-cloud>=0.0.9 in f:\\projects\\rag_hindex\\.venv\\lib\\site-packages (from llama-index-indices-managed-llama-cloud>=0.2.0->llama-index) (0.0.9)\n",
      "Requirement already satisfied: beautifulsoup4<5.0.0,>=4.12.3 in f:\\projects\\rag_hindex\\.venv\\lib\\site-packages (from llama-index-readers-file<0.2.0,>=0.1.4->llama-index) (4.12.3)\n",
      "Requirement already satisfied: pypdf<5.0.0,>=4.0.1 in f:\\projects\\rag_hindex\\.venv\\lib\\site-packages (from llama-index-readers-file<0.2.0,>=0.1.4->llama-index) (4.3.0)\n",
      "Requirement already satisfied: striprtf<0.0.27,>=0.0.26 in f:\\projects\\rag_hindex\\.venv\\lib\\site-packages (from llama-index-readers-file<0.2.0,>=0.1.4->llama-index) (0.0.26)\n",
      "Requirement already satisfied: llama-parse>=0.4.0 in f:\\projects\\rag_hindex\\.venv\\lib\\site-packages (from llama-index-readers-llama-parse>=0.1.2->llama-index) (0.4.9)\n",
      "Requirement already satisfied: aiosignal>=1.1.2 in f:\\projects\\rag_hindex\\.venv\\lib\\site-packages (from aiohttp<4.0.0,>=3.8.6->llama-index-core==0.10.56->llama-index) (1.3.1)\n",
      "Requirement already satisfied: attrs>=17.3.0 in f:\\projects\\rag_hindex\\.venv\\lib\\site-packages (from aiohttp<4.0.0,>=3.8.6->llama-index-core==0.10.56->llama-index) (23.2.0)\n",
      "Requirement already satisfied: frozenlist>=1.1.1 in f:\\projects\\rag_hindex\\.venv\\lib\\site-packages (from aiohttp<4.0.0,>=3.8.6->llama-index-core==0.10.56->llama-index) (1.4.1)\n",
      "Requirement already satisfied: multidict<7.0,>=4.5 in f:\\projects\\rag_hindex\\.venv\\lib\\site-packages (from aiohttp<4.0.0,>=3.8.6->llama-index-core==0.10.56->llama-index) (6.0.5)\n",
      "Requirement already satisfied: yarl<2.0,>=1.0 in f:\\projects\\rag_hindex\\.venv\\lib\\site-packages (from aiohttp<4.0.0,>=3.8.6->llama-index-core==0.10.56->llama-index) (1.9.4)\n",
      "Requirement already satisfied: async-timeout<5.0,>=4.0 in f:\\projects\\rag_hindex\\.venv\\lib\\site-packages (from aiohttp<4.0.0,>=3.8.6->llama-index-core==0.10.56->llama-index) (4.0.3)\n",
      "Requirement already satisfied: soupsieve>1.2 in f:\\projects\\rag_hindex\\.venv\\lib\\site-packages (from beautifulsoup4<5.0.0,>=4.12.3->llama-index-readers-file<0.2.0,>=0.1.4->llama-index) (2.5)\n",
      "Requirement already satisfied: pydantic>=1.10 in f:\\projects\\rag_hindex\\.venv\\lib\\site-packages (from llama-cloud>=0.0.9->llama-index-indices-managed-llama-cloud>=0.2.0->llama-index) (2.8.2)\n",
      "Requirement already satisfied: anyio in f:\\projects\\rag_hindex\\.venv\\lib\\site-packages (from httpx->llama-index-core==0.10.56->llama-index) (4.4.0)\n",
      "Requirement already satisfied: certifi in f:\\projects\\rag_hindex\\.venv\\lib\\site-packages (from httpx->llama-index-core==0.10.56->llama-index) (2024.7.4)\n",
      "Requirement already satisfied: httpcore==1.* in f:\\projects\\rag_hindex\\.venv\\lib\\site-packages (from httpx->llama-index-core==0.10.56->llama-index) (1.0.5)\n",
      "Requirement already satisfied: idna in f:\\projects\\rag_hindex\\.venv\\lib\\site-packages (from httpx->llama-index-core==0.10.56->llama-index) (3.7)\n",
      "Requirement already satisfied: sniffio in f:\\projects\\rag_hindex\\.venv\\lib\\site-packages (from httpx->llama-index-core==0.10.56->llama-index) (1.3.1)\n",
      "Requirement already satisfied: h11<0.15,>=0.13 in f:\\projects\\rag_hindex\\.venv\\lib\\site-packages (from httpcore==1.*->httpx->llama-index-core==0.10.56->llama-index) (0.14.0)\n",
      "Requirement already satisfied: click in f:\\projects\\rag_hindex\\.venv\\lib\\site-packages (from nltk<4.0.0,>=3.8.1->llama-index-core==0.10.56->llama-index) (8.1.7)\n",
      "Requirement already satisfied: joblib in f:\\projects\\rag_hindex\\.venv\\lib\\site-packages (from nltk<4.0.0,>=3.8.1->llama-index-core==0.10.56->llama-index) (1.4.2)\n",
      "Requirement already satisfied: regex>=2021.8.3 in f:\\projects\\rag_hindex\\.venv\\lib\\site-packages (from nltk<4.0.0,>=3.8.1->llama-index-core==0.10.56->llama-index) (2024.5.15)\n",
      "Requirement already satisfied: distro<2,>=1.7.0 in f:\\projects\\rag_hindex\\.venv\\lib\\site-packages (from openai>=1.1.0->llama-index-core==0.10.56->llama-index) (1.9.0)\n",
      "Requirement already satisfied: charset-normalizer<4,>=2 in f:\\projects\\rag_hindex\\.venv\\lib\\site-packages (from requests>=2.31.0->llama-index-core==0.10.56->llama-index) (3.3.2)\n",
      "Requirement already satisfied: urllib3<3,>=1.21.1 in f:\\projects\\rag_hindex\\.venv\\lib\\site-packages (from requests>=2.31.0->llama-index-core==0.10.56->llama-index) (2.2.2)\n",
      "Requirement already satisfied: greenlet!=0.4.17 in f:\\projects\\rag_hindex\\.venv\\lib\\site-packages (from SQLAlchemy>=1.4.49->SQLAlchemy[asyncio]>=1.4.49->llama-index-core==0.10.56->llama-index) (3.0.3)\n",
      "Requirement already satisfied: colorama in f:\\projects\\rag_hindex\\.venv\\lib\\site-packages (from tqdm<5.0.0,>=4.66.1->llama-index-core==0.10.56->llama-index) (0.4.6)\n",
      "Requirement already satisfied: mypy-extensions>=0.3.0 in f:\\projects\\rag_hindex\\.venv\\lib\\site-packages (from typing-inspect>=0.8.0->llama-index-core==0.10.56->llama-index) (1.0.0)\n",
      "Requirement already satisfied: marshmallow<4.0.0,>=3.18.0 in f:\\projects\\rag_hindex\\.venv\\lib\\site-packages (from dataclasses-json->llama-index-core==0.10.56->llama-index) (3.21.3)\n",
      "Requirement already satisfied: python-dateutil>=2.8.2 in f:\\projects\\rag_hindex\\.venv\\lib\\site-packages (from pandas->llama-index-core==0.10.56->llama-index) (2.9.0.post0)\n",
      "Requirement already satisfied: pytz>=2020.1 in f:\\projects\\rag_hindex\\.venv\\lib\\site-packages (from pandas->llama-index-core==0.10.56->llama-index) (2024.1)\n",
      "Requirement already satisfied: tzdata>=2022.7 in f:\\projects\\rag_hindex\\.venv\\lib\\site-packages (from pandas->llama-index-core==0.10.56->llama-index) (2024.1)\n",
      "Requirement already satisfied: exceptiongroup>=1.0.2 in f:\\projects\\rag_hindex\\.venv\\lib\\site-packages (from anyio->httpx->llama-index-core==0.10.56->llama-index) (1.2.2)\n",
      "Requirement already satisfied: packaging>=17.0 in f:\\projects\\rag_hindex\\.venv\\lib\\site-packages (from marshmallow<4.0.0,>=3.18.0->dataclasses-json->llama-index-core==0.10.56->llama-index) (24.1)\n",
      "Requirement already satisfied: annotated-types>=0.4.0 in f:\\projects\\rag_hindex\\.venv\\lib\\site-packages (from pydantic>=1.10->llama-cloud>=0.0.9->llama-index-indices-managed-llama-cloud>=0.2.0->llama-index) (0.7.0)\n",
      "Requirement already satisfied: pydantic-core==2.20.1 in f:\\projects\\rag_hindex\\.venv\\lib\\site-packages (from pydantic>=1.10->llama-cloud>=0.0.9->llama-index-indices-managed-llama-cloud>=0.2.0->llama-index) (2.20.1)\n",
      "Requirement already satisfied: six>=1.5 in f:\\projects\\rag_hindex\\.venv\\lib\\site-packages (from python-dateutil>=2.8.2->pandas->llama-index-core==0.10.56->llama-index) (1.16.0)\n",
      "Note: you may need to restart the kernel to use updated packages.\n"
     ]
    }
   ],
   "source": [
    "\n",
    "%pip install llama-index"
   ]
  },
  {
   "cell_type": "code",
   "execution_count": null,
   "metadata": {},
   "outputs": [],
   "source": [
    "from llama_index."
   ]
  }
 ],
 "metadata": {
  "kernelspec": {
   "display_name": ".venv",
   "language": "python",
   "name": "python3"
  },
  "language_info": {
   "codemirror_mode": {
    "name": "ipython",
    "version": 3
   },
   "file_extension": ".py",
   "mimetype": "text/x-python",
   "name": "python",
   "nbconvert_exporter": "python",
   "pygments_lexer": "ipython3",
   "version": "3.10.8"
  }
 },
 "nbformat": 4,
 "nbformat_minor": 2
}
